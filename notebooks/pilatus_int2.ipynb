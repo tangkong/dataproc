{
 "cells": [
  {
   "cell_type": "code",
   "execution_count": null,
   "source": [
    "import numpy as np\r\n",
    "import os\r\n",
    "import fabio\r\n",
    "import matplotlib.pyplot as plt\r\n",
    "import pandas as pd\r\n",
    "from pathlib import Path\r\n",
    "import re\r\n",
    "\r\n",
    "from pyFAI.multi_geometry import MultiGeometry\r\n",
    "from pyFAI.azimuthalIntegrator import AzimuthalIntegrator as AzInt"
   ],
   "outputs": [],
   "metadata": {}
  },
  {
   "cell_type": "code",
   "execution_count": null,
   "source": [
    "def load_image(imageFullname):\r\n",
    "    \"\"\"\r\n",
    "    author: Fang Ren (SSRL), Robert Tang-Kong\r\n",
    "    version: 1.1\r\n",
    "\r\n",
    "    returns: numpy array with image data\r\n",
    "    CURRENTLY HARD CODED FOR PILATUS\r\n",
    "    \"\"\"\r\n",
    "    # get extension to consider\r\n",
    "    ext = os.path.splitext(imageFullname)[1]\r\n",
    "    #print(imageFullname)\r\n",
    "    imArray = np.array([])\r\n",
    "    if ext.lower() in ['.tif', '.tiff']:\r\n",
    "        # open tiff image\r\n",
    "        with fabio.open(imageFullname) as im:\r\n",
    "            # input image object into a numpy array\r\n",
    "            imArray = im.data\r\n",
    "    elif ext.lower() in ['.raw']:\r\n",
    "        # extract raw file\r\n",
    "        with open(imageFullname, 'rb') as im:\r\n",
    "            arr = np.frombuffer(im.read(), dtype='int32')\r\n",
    "\r\n",
    "        #raw requires prompting for dimensions, hard code for now\r\n",
    "        arr.shape = (195, 487)\r\n",
    "        imArray = np.array(arr)\r\n",
    "\r\n",
    "    return imArray"
   ],
   "outputs": [],
   "metadata": {}
  },
  {
   "cell_type": "code",
   "execution_count": null,
   "source": [
    "# Organize paths and collect images to integrate (data)\r\n",
    "base_path = Path('C:\\\\Users\\\\roberttk\\\\Desktop\\\\SLAC_RA\\\\DATA\\\\July2021_Xiaolin\\\\XiaolinZhang\\\\')\r\n",
    "exportPath = base_path / 'LaoSi2_Lg_export'\r\n",
    "specPath = base_path / 'LaoSi2_Lg' # folder holding spec files\r\n",
    "\r\n",
    "user = 'b_mehta_'\r\n",
    "imgPath = specPath / 'images'\r\n",
    "\r\n",
    "# define detector.  \r\n",
    "from pyFAI.detectors import Pilatus100k\r\n",
    "det = Pilatus100k()\r\n",
    "\r\n",
    "# define detector geometry\r\n",
    "# USER MUST CHANGE THIS VALUE\r\n",
    "centerPx1, centerPx2 = (91, 250)"
   ],
   "outputs": [],
   "metadata": {}
  },
  {
   "cell_type": "code",
   "execution_count": null,
   "source": [
    "testPath = imgPath / 'b_mehta_LaoSi2_Lg_Gi1p0_scan1_0064.raw'\r\n",
    "print(testPath)\r\n",
    "img = load_image(testPath)\r\n",
    "\r\n",
    "# if detector is portrait mode, need to rotate images\r\n",
    "# plt.imshow(np.rot90(img, k=1))#[:, 100:400])\r\n",
    "# plt.scatter(91, 277, c='r')\r\n",
    "\r\n",
    "# if detector is landscape, can use as is\r\n",
    "plt.imshow(img)\r\n",
    "plt.scatter(250, 91, c='r')"
   ],
   "outputs": [],
   "metadata": {}
  },
  {
   "cell_type": "code",
   "execution_count": null,
   "source": [
    "plt.figure()\r\n",
    "# if landscape\r\n",
    "mask = np.ones(np.shape(img))\r\n",
    "mask[:, 100:400] = 0\r\n",
    "\r\n",
    "# # if portrait\r\n",
    "# mask = np.ones(np.shape(np.rot90(img, k=3)))\r\n",
    "# mask[100:400, :] = 0 # zero's are valid\r\n",
    "\r\n",
    "plt.imshow(mask)\r\n",
    "plt.show()"
   ],
   "outputs": [],
   "metadata": {}
  },
  {
   "cell_type": "code",
   "execution_count": null,
   "source": [
    "specFiles = specPath.glob('*scan1.csv') # use re to be more precise\r\n",
    "# specs = [pd.read_csv(x, index_col=0).rename(columns=lambda x: x.strip()) for x in specFiles]\r\n",
    "\r\n",
    "\r\n",
    "for scan in specFiles:\r\n",
    "    print(scan)\r\n",
    "    imgGlob = imgPath.glob(f'*{scan.stem}*.raw')\r\n",
    "    spec = pd.read_csv(scan)\r\n",
    "    spec.rename(columns=lambda x: x.strip(), inplace=True)\r\n",
    "\r\n",
    "    imgs = []\r\n",
    "    ais = []\r\n",
    "\r\n",
    "    for rawPath in imgGlob:\r\n",
    "        # Append img to list of images\r\n",
    "        img = load_image(rawPath)\r\n",
    "        \r\n",
    "        imgs.append(np.rot90(img, k=1))\r\n",
    "\r\n",
    "        # Append calibrated ai to list of ai's\r\n",
    "        scanNo = int(re.search('(\\d{4})(\\.raw)', str(rawPath)).group(1))\r\n",
    "        ai = AzInt(dist=0.714728, #m \r\n",
    "                poni1=centerPx2*det.pixel1, poni2=centerPx1*det.pixel1, detector=det, \r\n",
    "                wavelength=7.29319E-11, \r\n",
    "                rot2=np.pi/180*float(spec['tth'][scanNo]), # tth rotation\r\n",
    "                rot3=-np.pi/2) # For bringing azimuth to 0\r\n",
    "        ais.append(ai)\r\n",
    "\r\n",
    "    mg = MultiGeometry(ais, unit=\"2th_deg\", radial_range=(5, 50), azimuth_range=(-20, 20))\r\n",
    "    fig, ax = plt.subplots(2, 1, figsize=(8,12))\r\n",
    "\r\n",
    "    int1d = mg.integrate1d(imgs, 2000, lst_mask=mask)\r\n",
    "    ax[0].plot(int1d[0], int1d[1])\r\n",
    "    ax[0].set_ylabel('Intensity')\r\n",
    "    ax[0].set_xlim(0,65)\r\n",
    "\r\n",
    "    pd.DataFrame({'tth': int1d[0], 'I':int1d[1]}).to_csv(exportPath / (str(scan.stem) + '_int1d.csv'))\r\n",
    "\r\n",
    "    res2d = mg.integrate2d(imgs, 100, 360, lst_mask=mask)\r\n",
    "    # gives 3 arrays.  First is intensities with shape (arg2, arg1)  Second is 2th range, third is azimuthal range\r\n",
    "\r\n",
    "    ax[1].pcolormesh(res2d[1], res2d[2], np.log(res2d[0]), cmap = 'viridis')\r\n",
    "\r\n",
    "    ax[1].set_xlim(0,65)\r\n",
    "    ax[1].set_xlabel('Radial Angle 2theta')\r\n",
    "    ax[1].set_ylabel('Azumuthal Angle chi')\r\n",
    "\r\n",
    "    plt.savefig(exportPath / (str(scan.stem)+'.png'))"
   ],
   "outputs": [],
   "metadata": {}
  },
  {
   "cell_type": "code",
   "execution_count": null,
   "source": [
    "imgGlob = imgPath.glob(f'*{scan.stem}*.raw')\r\n",
    "len(list(imgGlob))"
   ],
   "outputs": [],
   "metadata": {}
  },
  {
   "cell_type": "code",
   "execution_count": null,
   "source": [
    "scan.stem"
   ],
   "outputs": [],
   "metadata": {}
  },
  {
   "cell_type": "code",
   "execution_count": null,
   "source": [],
   "outputs": [],
   "metadata": {}
  }
 ],
 "metadata": {
  "orig_nbformat": 4,
  "language_info": {
   "name": "python",
   "version": "3.8.6",
   "mimetype": "text/x-python",
   "codemirror_mode": {
    "name": "ipython",
    "version": 3
   },
   "pygments_lexer": "ipython3",
   "nbconvert_exporter": "python",
   "file_extension": ".py"
  },
  "kernelspec": {
   "name": "python3",
   "display_name": "Python 3.8.6 64-bit ('dproc': conda)"
  },
  "interpreter": {
   "hash": "76e205d759da850295c585fcd4ab2a53a4d656d0851c4a884e8a7b7c69801e31"
  }
 },
 "nbformat": 4,
 "nbformat_minor": 2
}